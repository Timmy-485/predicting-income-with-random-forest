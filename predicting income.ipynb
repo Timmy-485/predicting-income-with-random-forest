{
 "cells": [
  {
   "cell_type": "code",
   "execution_count": 1,
   "id": "d3973f25",
   "metadata": {},
   "outputs": [],
   "source": [
    "# import libraries\n",
    "\n",
    "import pandas as pd\n",
    "from sklearn.model_selection import train_test_split\n",
    "from sklearn import tree\n",
    "from sklearn.ensemble import RandomForestClassifier"
   ]
  },
  {
   "cell_type": "code",
   "execution_count": 2,
   "id": "1da3ce99",
   "metadata": {},
   "outputs": [
    {
     "name": "stderr",
     "output_type": "stream",
     "text": [
      "<ipython-input-2-8935e95337ea>:2: ParserWarning: Falling back to the 'python' engine because the 'c' engine does not support regex separators (separators > 1 char and different from '\\s+' are interpreted as regex); you can avoid this warning by specifying engine='python'.\n",
      "  df = pd.read_csv('income.csv', header=0, delimiter=', ')\n"
     ]
    }
   ],
   "source": [
    "# load data\n",
    "df = pd.read_csv('income.csv', header=0, delimiter=', ')\n",
    "\n",
    "# select labels\n",
    "labels = df[\"income\"]\n",
    "\n",
    "# create numerical cols for categorical data\n",
    "df[\"sex-num\"] = df[\"sex\"].apply(lambda row: 0 if row == \"Male\" else 1)\n",
    "# print(income_data[\"native-country\"].value_counts())\n",
    "df[\"country-num\"] = df[\"sex\"].apply(lambda row: 0 if row == \"Male\" else 1)\n",
    "\n",
    "# select features\n",
    "features = df[[\"age\", \"capital-gain\", \"capital-loss\", \"hours-per-week\", \"sex-num\", \"country-num\"]]"
   ]
  },
  {
   "cell_type": "code",
   "execution_count": null,
   "id": "d33a2fbe",
   "metadata": {},
   "outputs": [],
   "source": [
    "# split data to train test sets\n",
    "train_data, test_data, train_labels, test_labels = train_test_split(data, labels, random_state=1)"
   ]
  }
 ],
 "metadata": {
  "kernelspec": {
   "display_name": "Python 3",
   "language": "python",
   "name": "python3"
  },
  "language_info": {
   "codemirror_mode": {
    "name": "ipython",
    "version": 3
   },
   "file_extension": ".py",
   "mimetype": "text/x-python",
   "name": "python",
   "nbconvert_exporter": "python",
   "pygments_lexer": "ipython3",
   "version": "3.8.8"
  }
 },
 "nbformat": 4,
 "nbformat_minor": 5
}
